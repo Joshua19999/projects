{
 "cells": [
  {
   "cell_type": "markdown",
   "metadata": {},
   "source": [
    "#   Casino"
   ]
  },
  {
   "cell_type": "code",
   "execution_count": 44,
   "metadata": {},
   "outputs": [],
   "source": [
    "import pandas as pd\n",
    "import numpy as np\n",
    "import seaborn as sns\n",
    "import matplotlib.pyplot as plt"
   ]
  },
  {
   "cell_type": "markdown",
   "metadata": {},
   "source": [
    "# Función tirar dados"
   ]
  },
  {
   "cell_type": "code",
   "execution_count": 45,
   "metadata": {},
   "outputs": [],
   "source": [
    "def tirar_dados(n=1):\n",
    "    dados=pd.Series(np.random.randint(1,9,n))\n",
    "    ver=\" \"\n",
    "    while not ver==\"y\" or ver==\"n\": \n",
    "        ver=input(\"Ver serie? y/n\")\n",
    "        if ver==\"y\":\n",
    "            print(dados)\n",
    "        elif ver==\"n\":\n",
    "            break\n",
    "        else:\n",
    "            print(\"intentalo otra vez\")\n",
    "    return dados"
   ]
  },
  {
   "cell_type": "markdown",
   "metadata": {},
   "source": [
    "# Contar valores"
   ]
  },
  {
   "cell_type": "code",
   "execution_count": 46,
   "metadata": {},
   "outputs": [],
   "source": [
    "def contar_veces(dados):\n",
    "    dados=dados.value_counts().sort_index()\n",
    "    ver=\" \"\n",
    "    while not ver==\"y\" or ver==\"n\": \n",
    "        ver=input(\"Ver cuenta? y/n\")\n",
    "        if ver==\"y\":\n",
    "            print(dados)\n",
    "        elif ver==\"n\":\n",
    "            break\n",
    "        else:\n",
    "            print(\"intentalo otra vez\")\n",
    "    return dados"
   ]
  },
  {
   "cell_type": "markdown",
   "metadata": {},
   "source": [
    "# Funcion de hacer dataframe\n"
   ]
  },
  {
   "cell_type": "code",
   "execution_count": 55,
   "metadata": {},
   "outputs": [],
   "source": [
    "def make_dataframe(dados):\n",
    "\n",
    "    dados,cantidad=[i for i in dados],[j for j in dados.index]\n",
    "    dadosdf=pd.DataFrame({\"dados\":cantidad,\"cantidad\":dados})\n",
    "    ver=\" \"\n",
    "    while not ver==\"y\" or ver==\"n\": \n",
    "        ver=input(\"Ver dataframe? y/n\")\n",
    "        if ver==\"y\":\n",
    "            print(dadosdf)\n",
    "        elif ver==\"n\":\n",
    "            break\n",
    "        else:\n",
    "            print(\"intentalo otra vez\")\n",
    "    return dadosdf"
   ]
  },
  {
   "cell_type": "markdown",
   "metadata": {},
   "source": [
    "# Funcion de hacer grafico"
   ]
  },
  {
   "cell_type": "code",
   "execution_count": 48,
   "metadata": {},
   "outputs": [],
   "source": [
    "def make_barplot(dadosdf):\n",
    "    ax=sns.barplot(x=\"dados\",y=\"cantidad\",data=dadosdf,palette=\"cool\")\n",
    "\n",
    "    plt.title(\"Veces que salio cada numero\")\n",
    "    plt.xlabel(\"Numero\")\n",
    "    plt.ylabel(\"Veces que salio\")\n",
    "    ax.set(yticks=[])  #Oculta las etiquetas del eje y\n",
    "    # ax.get_yaxis().set_visible(False)  #Oculta todo del eje y\n",
    "\n",
    "    for p in ax.patches:\n",
    "        ax.annotate(format(p.get_height(), '.0f'),\n",
    "                (p.get_x() + p.get_width() / 2, p.get_height()),\n",
    "                ha = 'center', va = 'center',\n",
    "                xytext = (0, 9),  # Desplazamiento de las etiquetas\n",
    "                textcoords = 'offset points')\n",
    "\n",
    "    plt.show()"
   ]
  },
  {
   "cell_type": "code",
   "execution_count": 49,
   "metadata": {},
   "outputs": [
    {
     "name": "stdout",
     "output_type": "stream",
     "text": [
      "0     4\n",
      "1     8\n",
      "2     8\n",
      "3     8\n",
      "4     5\n",
      "     ..\n",
      "95    8\n",
      "96    2\n",
      "97    3\n",
      "98    2\n",
      "99    3\n",
      "Length: 100, dtype: int32\n"
     ]
    }
   ],
   "source": [
    "dados=tirar_dados(100)"
   ]
  },
  {
   "cell_type": "code",
   "execution_count": 50,
   "metadata": {},
   "outputs": [
    {
     "name": "stdout",
     "output_type": "stream",
     "text": [
      "1    11\n",
      "2    14\n",
      "3    13\n",
      "4    14\n",
      "5    10\n",
      "6    13\n",
      "7     7\n",
      "8    18\n",
      "Name: count, dtype: int64\n"
     ]
    }
   ],
   "source": [
    "dados=contar_veces(dados)"
   ]
  },
  {
   "cell_type": "code",
   "execution_count": 56,
   "metadata": {},
   "outputs": [
    {
     "name": "stdout",
     "output_type": "stream",
     "text": [
      "   dados  cantidad\n",
      "0      1        11\n",
      "1      2        14\n",
      "2      3        13\n",
      "3      4        14\n",
      "4      5        10\n",
      "5      6        13\n",
      "6      7         7\n",
      "7      8        18\n"
     ]
    }
   ],
   "source": [
    "dadosdf=make_dataframe(dados)"
   ]
  },
  {
   "cell_type": "code",
   "execution_count": 52,
   "metadata": {},
   "outputs": [
    {
     "name": "stderr",
     "output_type": "stream",
     "text": [
      "C:\\Users\\jrive\\AppData\\Local\\Temp\\ipykernel_8124\\3195970945.py:2: FutureWarning: \n",
      "\n",
      "Passing `palette` without assigning `hue` is deprecated and will be removed in v0.14.0. Assign the `x` variable to `hue` and set `legend=False` for the same effect.\n",
      "\n",
      "  ax=sns.barplot(x=\"dados\",y=\"cantidad\",data=dadosdf,palette=\"cool\")\n"
     ]
    },
    {
     "data": {
      "image/png": "[encoded data removed]",
      "text/plain": [
       "<Figure size 640x480 with 1 Axes>"
      ]
     },
     "metadata": {},
     "output_type": "display_data"
    }
   ],
   "source": [
    "make_barplot(dadosdf)"
   ]
  },
  {
   "cell_type": "markdown",
   "metadata": {},
   "source": [
    "# Archivo Python a .exe"
   ]
  },
  {
   "cell_type": "code",
   "execution_count": null,
   "metadata": {},
   "outputs": [],
   "source": [
    "!pip install PyInstaller"
   ]
  },
  {
   "cell_type": "code",
   "execution_count": null,
   "metadata": {},
   "outputs": [],
   "source": [
    "!python -m PyInstaller --onefile --noconsole name_file.py"
   ]
  },
  {
   "cell_type": "markdown",
   "metadata": {},
   "source": [
    "--onefile: Este argumento le indica a PyInstaller que genere un solo archivo ejecutable. Sin esta opción, PyInstaller creará una carpeta con varios archivos que juntos forman el ejecutable."
   ]
  },
  {
   "cell_type": "markdown",
   "metadata": {},
   "source": [
    "--windowed o --noconsole: Estas opciones se usan para aplicaciones GUI (interfaz gráfica de usuario) y evitarán que se abra una ventana de consola cuando el programa se ejecute."
   ]
  },
  {
   "cell_type": "markdown",
   "metadata": {},
   "source": [
    "--icon=icono.ico: Si deseas incluir un ícono personalizado para tu ejecutable, puedes usar esta opción. Asegúrate de tener un archivo .ico."
   ]
  }
 ],
 "metadata": {
  "kernelspec": {
   "display_name": "Python 3",
   "language": "python",
   "name": "python3"
  },
  "language_info": {
   "codemirror_mode": {
    "name": "ipython",
    "version": 3
   },
   "file_extension": ".py",
   "mimetype": "text/x-python",
   "name": "python",
   "nbconvert_exporter": "python",
   "pygments_lexer": "ipython3",
   "version": "3.8.10"
  }
 },
 "nbformat": 4,
 "nbformat_minor": 2
}
