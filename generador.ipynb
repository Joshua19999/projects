{
 "cells": [
  {
   "cell_type": "code",
   "execution_count": 1,
   "metadata": {},
   "outputs": [],
   "source": [
    "def generar_funcion(nombre_funcion, argumentos, operacion):\n",
    "    # Crear el encabezado de la función\n",
    "    codigo_funcion = f\"def {nombre_funcion}({', '.join(argumentos)}):\\n\"\n",
    "    \n",
    "    # Generar el cuerpo de la función basado en la operación seleccionada\n",
    "    if operacion == 'suma':\n",
    "        codigo_funcion += f\"    return {' + '.join(argumentos)}\\n\"\n",
    "    elif operacion == 'resta':\n",
    "        codigo_funcion += f\"    return {' - '.join(argumentos)}\\n\"\n",
    "    elif operacion == 'multiplicacion':\n",
    "        codigo_funcion += f\"    return {' * '.join(argumentos)}\\n\"\n",
    "    elif operacion == 'division':\n",
    "        codigo_funcion += f\"    return {' / '.join(argumentos)}\\n\"\n",
    "    else:\n",
    "        codigo_funcion += f\"    pass  # Operación no definida\\n\"\n",
    "\n",
    "    return codigo_funcion\n",
    "\n"
   ]
  },
  {
   "cell_type": "code",
   "execution_count": 2,
   "metadata": {},
   "outputs": [
    {
     "name": "stdout",
     "output_type": "stream",
     "text": [
      "\n",
      "Código Generado:\n",
      "def restar(6, 6, 6):\n",
      "    return 6 + 6 + 6\n",
      "\n",
      "\n",
      "El código ha sido guardado en restar.py\n"
     ]
    }
   ],
   "source": [
    "# Ejemplo de uso\n",
    "if __name__ == \"__main__\":\n",
    "    nombre_funcion = input(\"Introduce el nombre de la función: \")\n",
    "    argumentos = input(\"Introduce los argumentos separados por comas: \").split(\",\")\n",
    "    operacion = input(\"Introduce la operación ('suma', 'resta', 'multiplicacion', 'division'): \")\n",
    "\n",
    "    # Generar y mostrar el código\n",
    "    codigo_generado = generar_funcion(nombre_funcion, argumentos, operacion)\n",
    "    print(\"\\nCódigo Generado:\")\n",
    "    print(codigo_generado)\n",
    "\n",
    "    # Guardar el código en un archivo .py\n",
    "    with open(f\"{nombre_funcion}.py\", \"w\") as archivo:\n",
    "        archivo.write(codigo_generado)\n",
    "\n",
    "    print(f\"\\nEl código ha sido guardado en {nombre_funcion}.py\")\n"
   ]
  }
 ],
 "metadata": {
  "kernelspec": {
   "display_name": "Python 3",
   "language": "python",
   "name": "python3"
  },
  "language_info": {
   "codemirror_mode": {
    "name": "ipython",
    "version": 3
   },
   "file_extension": ".py",
   "mimetype": "text/x-python",
   "name": "python",
   "nbconvert_exporter": "python",
   "pygments_lexer": "ipython3",
   "version": "3.8.10"
  }
 },
 "nbformat": 4,
 "nbformat_minor": 2
}
