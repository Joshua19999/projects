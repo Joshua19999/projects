{
 "cells": [
  {
   "cell_type": "code",
   "execution_count": 88,
   "metadata": {},
   "outputs": [],
   "source": [
    "import pandas as pd \n",
    "import matplotlib.pyplot as plt\n",
    "import glob"
   ]
  },
  {
   "cell_type": "code",
   "execution_count": 89,
   "metadata": {},
   "outputs": [
    {
     "data": {
      "text/html": [
       "<div>\n",
       "<style scoped>\n",
       "    .dataframe tbody tr th:only-of-type {\n",
       "        vertical-align: middle;\n",
       "    }\n",
       "\n",
       "    .dataframe tbody tr th {\n",
       "        vertical-align: top;\n",
       "    }\n",
       "\n",
       "    .dataframe thead th {\n",
       "        text-align: right;\n",
       "    }\n",
       "</style>\n",
       "<table border=\"1\" class=\"dataframe\">\n",
       "  <thead>\n",
       "    <tr style=\"text-align: right;\">\n",
       "      <th></th>\n",
       "      <th>name</th>\n",
       "      <th>main_category</th>\n",
       "      <th>sub_category</th>\n",
       "      <th>image</th>\n",
       "      <th>link</th>\n",
       "      <th>ratings</th>\n",
       "      <th>no_of_ratings</th>\n",
       "      <th>discount_price</th>\n",
       "      <th>actual_price</th>\n",
       "    </tr>\n",
       "  </thead>\n",
       "  <tbody>\n",
       "    <tr>\n",
       "      <th>0</th>\n",
       "      <td>Lloyd 1.5 Ton 3 Star Inverter Split Ac (5 In 1...</td>\n",
       "      <td>appliances</td>\n",
       "      <td>Air Conditioners</td>\n",
       "      <td>https://m.media-amazon.com/images/I/31UISB90sY...</td>\n",
       "      <td>https://www.amazon.in/Lloyd-Inverter-Convertib...</td>\n",
       "      <td>4.2</td>\n",
       "      <td>2,255</td>\n",
       "      <td>₹32,999</td>\n",
       "      <td>₹58,990</td>\n",
       "    </tr>\n",
       "    <tr>\n",
       "      <th>1</th>\n",
       "      <td>LG 1.5 Ton 5 Star AI DUAL Inverter Split AC (C...</td>\n",
       "      <td>appliances</td>\n",
       "      <td>Air Conditioners</td>\n",
       "      <td>https://m.media-amazon.com/images/I/51JFb7FctD...</td>\n",
       "      <td>https://www.amazon.in/LG-Convertible-Anti-Viru...</td>\n",
       "      <td>4.2</td>\n",
       "      <td>2,948</td>\n",
       "      <td>₹46,490</td>\n",
       "      <td>₹75,990</td>\n",
       "    </tr>\n",
       "    <tr>\n",
       "      <th>2</th>\n",
       "      <td>LG 1 Ton 4 Star Ai Dual Inverter Split Ac (Cop...</td>\n",
       "      <td>appliances</td>\n",
       "      <td>Air Conditioners</td>\n",
       "      <td>https://m.media-amazon.com/images/I/51JFb7FctD...</td>\n",
       "      <td>https://www.amazon.in/LG-Inverter-Convertible-...</td>\n",
       "      <td>4.2</td>\n",
       "      <td>1,206</td>\n",
       "      <td>₹34,490</td>\n",
       "      <td>₹61,990</td>\n",
       "    </tr>\n",
       "    <tr>\n",
       "      <th>3</th>\n",
       "      <td>LG 1.5 Ton 3 Star AI DUAL Inverter Split AC (C...</td>\n",
       "      <td>appliances</td>\n",
       "      <td>Air Conditioners</td>\n",
       "      <td>https://m.media-amazon.com/images/I/51JFb7FctD...</td>\n",
       "      <td>https://www.amazon.in/LG-Convertible-Anti-Viru...</td>\n",
       "      <td>4.0</td>\n",
       "      <td>69</td>\n",
       "      <td>₹37,990</td>\n",
       "      <td>₹68,990</td>\n",
       "    </tr>\n",
       "    <tr>\n",
       "      <th>4</th>\n",
       "      <td>Carrier 1.5 Ton 3 Star Inverter Split AC (Copp...</td>\n",
       "      <td>appliances</td>\n",
       "      <td>Air Conditioners</td>\n",
       "      <td>https://m.media-amazon.com/images/I/41lrtqXPiW...</td>\n",
       "      <td>https://www.amazon.in/Carrier-Inverter-Split-C...</td>\n",
       "      <td>4.1</td>\n",
       "      <td>630</td>\n",
       "      <td>₹34,490</td>\n",
       "      <td>₹67,790</td>\n",
       "    </tr>\n",
       "    <tr>\n",
       "      <th>...</th>\n",
       "      <td>...</td>\n",
       "      <td>...</td>\n",
       "      <td>...</td>\n",
       "      <td>...</td>\n",
       "      <td>...</td>\n",
       "      <td>...</td>\n",
       "      <td>...</td>\n",
       "      <td>...</td>\n",
       "      <td>...</td>\n",
       "    </tr>\n",
       "    <tr>\n",
       "      <th>715</th>\n",
       "      <td>Personal Air Conditioners Portable AC Mini Air...</td>\n",
       "      <td>appliances</td>\n",
       "      <td>Air Conditioners</td>\n",
       "      <td>https://m.media-amazon.com/images/I/71RkCzQZyd...</td>\n",
       "      <td>https://www.amazon.in/Personal-Conditioners-Po...</td>\n",
       "      <td>NaN</td>\n",
       "      <td>NaN</td>\n",
       "      <td>₹10,234</td>\n",
       "      <td>₹13,999</td>\n",
       "    </tr>\n",
       "    <tr>\n",
       "      <th>716</th>\n",
       "      <td>Air Conditioner Fan Personal Desk Fan Space Ai...</td>\n",
       "      <td>appliances</td>\n",
       "      <td>Air Conditioners</td>\n",
       "      <td>https://m.media-amazon.com/images/I/719ujjLfw7...</td>\n",
       "      <td>https://www.amazon.in/Conditioner-Personal-Eva...</td>\n",
       "      <td>NaN</td>\n",
       "      <td>NaN</td>\n",
       "      <td>NaN</td>\n",
       "      <td>₹9,881</td>\n",
       "    </tr>\n",
       "    <tr>\n",
       "      <th>717</th>\n",
       "      <td>Portable Air Conditioners, Personal Air Condit...</td>\n",
       "      <td>appliances</td>\n",
       "      <td>Air Conditioners</td>\n",
       "      <td>https://m.media-amazon.com/images/I/71l59r1G-J...</td>\n",
       "      <td>https://www.amazon.in/Portable-Conditioners-Pe...</td>\n",
       "      <td>NaN</td>\n",
       "      <td>NaN</td>\n",
       "      <td>NaN</td>\n",
       "      <td>₹6,361</td>\n",
       "    </tr>\n",
       "    <tr>\n",
       "      <th>718</th>\n",
       "      <td>Portable Air Conditioner Fan, Personal Air Coo...</td>\n",
       "      <td>appliances</td>\n",
       "      <td>Air Conditioners</td>\n",
       "      <td>https://m.media-amazon.com/images/I/61GXC1nOlS...</td>\n",
       "      <td>https://www.amazon.in/Portable-Conditioner-Per...</td>\n",
       "      <td>2.8</td>\n",
       "      <td>207</td>\n",
       "      <td>NaN</td>\n",
       "      <td>₹7,671</td>\n",
       "    </tr>\n",
       "    <tr>\n",
       "      <th>719</th>\n",
       "      <td>Air Choice Desktop Protable AC Cooler Fan For ...</td>\n",
       "      <td>appliances</td>\n",
       "      <td>Air Conditioners</td>\n",
       "      <td>https://m.media-amazon.com/images/I/71yqMTaaWT...</td>\n",
       "      <td>https://www.amazon.in/Air-Choice-Desktop-Prota...</td>\n",
       "      <td>2.5</td>\n",
       "      <td>296</td>\n",
       "      <td>NaN</td>\n",
       "      <td>₹8,592</td>\n",
       "    </tr>\n",
       "  </tbody>\n",
       "</table>\n",
       "<p>720 rows × 9 columns</p>\n",
       "</div>"
      ],
      "text/plain": [
       "                                                  name main_category  \\\n",
       "0    Lloyd 1.5 Ton 3 Star Inverter Split Ac (5 In 1...    appliances   \n",
       "1    LG 1.5 Ton 5 Star AI DUAL Inverter Split AC (C...    appliances   \n",
       "2    LG 1 Ton 4 Star Ai Dual Inverter Split Ac (Cop...    appliances   \n",
       "3    LG 1.5 Ton 3 Star AI DUAL Inverter Split AC (C...    appliances   \n",
       "4    Carrier 1.5 Ton 3 Star Inverter Split AC (Copp...    appliances   \n",
       "..                                                 ...           ...   \n",
       "715  Personal Air Conditioners Portable AC Mini Air...    appliances   \n",
       "716  Air Conditioner Fan Personal Desk Fan Space Ai...    appliances   \n",
       "717  Portable Air Conditioners, Personal Air Condit...    appliances   \n",
       "718  Portable Air Conditioner Fan, Personal Air Coo...    appliances   \n",
       "719  Air Choice Desktop Protable AC Cooler Fan For ...    appliances   \n",
       "\n",
       "         sub_category                                              image  \\\n",
       "0    Air Conditioners  https://m.media-amazon.com/images/I/31UISB90sY...   \n",
       "1    Air Conditioners  https://m.media-amazon.com/images/I/51JFb7FctD...   \n",
       "2    Air Conditioners  https://m.media-amazon.com/images/I/51JFb7FctD...   \n",
       "3    Air Conditioners  https://m.media-amazon.com/images/I/51JFb7FctD...   \n",
       "4    Air Conditioners  https://m.media-amazon.com/images/I/41lrtqXPiW...   \n",
       "..                ...                                                ...   \n",
       "715  Air Conditioners  https://m.media-amazon.com/images/I/71RkCzQZyd...   \n",
       "716  Air Conditioners  https://m.media-amazon.com/images/I/719ujjLfw7...   \n",
       "717  Air Conditioners  https://m.media-amazon.com/images/I/71l59r1G-J...   \n",
       "718  Air Conditioners  https://m.media-amazon.com/images/I/61GXC1nOlS...   \n",
       "719  Air Conditioners  https://m.media-amazon.com/images/I/71yqMTaaWT...   \n",
       "\n",
       "                                                  link ratings no_of_ratings  \\\n",
       "0    https://www.amazon.in/Lloyd-Inverter-Convertib...     4.2         2,255   \n",
       "1    https://www.amazon.in/LG-Convertible-Anti-Viru...     4.2         2,948   \n",
       "2    https://www.amazon.in/LG-Inverter-Convertible-...     4.2         1,206   \n",
       "3    https://www.amazon.in/LG-Convertible-Anti-Viru...     4.0            69   \n",
       "4    https://www.amazon.in/Carrier-Inverter-Split-C...     4.1           630   \n",
       "..                                                 ...     ...           ...   \n",
       "715  https://www.amazon.in/Personal-Conditioners-Po...     NaN           NaN   \n",
       "716  https://www.amazon.in/Conditioner-Personal-Eva...     NaN           NaN   \n",
       "717  https://www.amazon.in/Portable-Conditioners-Pe...     NaN           NaN   \n",
       "718  https://www.amazon.in/Portable-Conditioner-Per...     2.8           207   \n",
       "719  https://www.amazon.in/Air-Choice-Desktop-Prota...     2.5           296   \n",
       "\n",
       "    discount_price actual_price  \n",
       "0          ₹32,999      ₹58,990  \n",
       "1          ₹46,490      ₹75,990  \n",
       "2          ₹34,490      ₹61,990  \n",
       "3          ₹37,990      ₹68,990  \n",
       "4          ₹34,490      ₹67,790  \n",
       "..             ...          ...  \n",
       "715        ₹10,234      ₹13,999  \n",
       "716            NaN       ₹9,881  \n",
       "717            NaN       ₹6,361  \n",
       "718            NaN       ₹7,671  \n",
       "719            NaN       ₹8,592  \n",
       "\n",
       "[720 rows x 9 columns]"
      ]
     },
     "execution_count": 89,
     "metadata": {},
     "output_type": "execute_result"
    }
   ],
   "source": [
    "# Primero especificamos un patrón del archivo y lo pasamos como parámetro en la función glob\n",
    "csv_files = glob.glob('*.csv')\n",
    "# Mostrar el archivo csv_files, el cual es una lista de nombres\n",
    "df_amazon=pd.read_csv(csv_files[0],sep=\",\")\n",
    "\n",
    "\n",
    "# Escribimos un loop que irá a través de cada uno de los nombres de archivo a través de globbing y el resultado final será la lista dataframes\n",
    "\n",
    "# for filename in csv_files[1:]:\n",
    "#     data=pd.read_csv(filename,sep=\",\")\n",
    "#     df_amazon=pd.concat([df_amazon,data], axis=0)\n",
    "df_amazon\n"
   ]
  },
  {
   "cell_type": "code",
   "execution_count": 90,
   "metadata": {},
   "outputs": [
    {
     "data": {
      "text/plain": [
       "0      4.2\n",
       "1      4.2\n",
       "2      4.2\n",
       "3      4.0\n",
       "4      4.1\n",
       "      ... \n",
       "715    NaN\n",
       "716    NaN\n",
       "717    NaN\n",
       "718    2.8\n",
       "719    2.5\n",
       "Name: ratings, Length: 720, dtype: float64"
      ]
     },
     "execution_count": 90,
     "metadata": {},
     "output_type": "execute_result"
    }
   ],
   "source": [
    "#df_amazon=df_amazon.drop(\"Unnamed: 0\", axis=1) \n",
    "df_amazon['actual_price']=df_amazon['actual_price'].str.slice(1,6)\n",
    "caracter_a_reemplazar = ','\n",
    "nuevo_caracter = '.'\n",
    "df_amazon['actual_price'] = df_amazon['actual_price'].str.replace(caracter_a_reemplazar, nuevo_caracter)\n",
    "df_amazon['ratings'] = df_amazon['ratings'].str.replace(caracter_a_reemplazar, nuevo_caracter)\n",
    "\n",
    "\n",
    "# Convertir la columna a numérica, convirtiendo los errores a NaN\n",
    "df_amazon['actual_price'] = pd.to_numeric(df_amazon['actual_price'], errors='coerce')\n",
    "df_amazon['ratings'] = pd.to_numeric(df_amazon['ratings'], errors='coerce')\n",
    "\n",
    "\n",
    "\n",
    "# Mostrar el DataFrame resultante\n",
    "df_amazon['actual_price']\n",
    "df_amazon['ratings']"
   ]
  },
  {
   "cell_type": "code",
   "execution_count": 91,
   "metadata": {},
   "outputs": [
    {
     "data": {
      "text/plain": [
       "name               object\n",
       "main_category      object\n",
       "sub_category       object\n",
       "image              object\n",
       "link               object\n",
       "ratings           float64\n",
       "no_of_ratings      object\n",
       "discount_price     object\n",
       "actual_price      float64\n",
       "dtype: object"
      ]
     },
     "execution_count": 91,
     "metadata": {},
     "output_type": "execute_result"
    }
   ],
   "source": [
    "df_amazon.dtypes"
   ]
  },
  {
   "cell_type": "markdown",
   "metadata": {},
   "source": [
    "1"
   ]
  },
  {
   "cell_type": "code",
   "execution_count": 92,
   "metadata": {},
   "outputs": [
    {
     "data": {
      "text/plain": [
       "58.2895931174089"
      ]
     },
     "execution_count": 92,
     "metadata": {},
     "output_type": "execute_result"
    }
   ],
   "source": [
    "df_amazon['actual_price'].mean()"
   ]
  },
  {
   "cell_type": "markdown",
   "metadata": {},
   "source": [
    "2"
   ]
  },
  {
   "cell_type": "code",
   "execution_count": 93,
   "metadata": {},
   "outputs": [
    {
     "data": {
      "text/plain": [
       "150    appliances\n",
       "551    appliances\n",
       "340    appliances\n",
       "302    appliances\n",
       "71     appliances\n",
       "Name: main_category, dtype: object"
      ]
     },
     "execution_count": 93,
     "metadata": {},
     "output_type": "execute_result"
    }
   ],
   "source": [
    "# Ordenar la columna 'Edad' en orden ascendente\n",
    "df_sorted = df_amazon.sort_values(by='actual_price',ascending=False)\n",
    "\n",
    "# Mostrar el DataFrame ordenado\n",
    "df_sorted['main_category'].head(5)"
   ]
  },
  {
   "cell_type": "markdown",
   "metadata": {},
   "source": [
    "3"
   ]
  },
  {
   "cell_type": "code",
   "execution_count": 97,
   "metadata": {},
   "outputs": [
    {
     "data": {
      "text/plain": [
       "0.16885644338066325"
      ]
     },
     "execution_count": 97,
     "metadata": {},
     "output_type": "execute_result"
    }
   ],
   "source": [
    "correlation = df_amazon['actual_price'].corr(df_amazon['ratings'])\n",
    "correlation"
   ]
  },
  {
   "cell_type": "markdown",
   "metadata": {},
   "source": [
    "4"
   ]
  },
  {
   "cell_type": "code",
   "execution_count": 110,
   "metadata": {},
   "outputs": [
    {
     "data": {
      "text/plain": [
       "997.751"
      ]
     },
     "execution_count": 110,
     "metadata": {},
     "output_type": "execute_result"
    }
   ],
   "source": [
    "subcategoría=\"Air Conditioners\"\n",
    "col_subcategoría=df_amazon['actual_price'][df_amazon['sub_category']==subcategoría]\n",
    "precio_maximo = col_subcategoría.max()\n",
    "precio_minimo = col_subcategoría.min()\n",
    "rango = precio_maximo - precio_minimo\n",
    "rango\n"
   ]
  }
 ],
 "metadata": {
  "kernelspec": {
   "display_name": "Python 3",
   "language": "python",
   "name": "python3"
  },
  "language_info": {
   "codemirror_mode": {
    "name": "ipython",
    "version": 3
   },
   "file_extension": ".py",
   "mimetype": "text/x-python",
   "name": "python",
   "nbconvert_exporter": "python",
   "pygments_lexer": "ipython3",
   "version": "3.8.10"
  }
 },
 "nbformat": 4,
 "nbformat_minor": 2
}
