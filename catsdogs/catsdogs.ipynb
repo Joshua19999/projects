{
 "cells": [
  {
   "cell_type": "code",
   "execution_count": 1,
   "metadata": {},
   "outputs": [],
   "source": [
    "import os\n",
    "import pandas as pd\n",
    "from PIL import Image\n",
    "import numpy as np\n",
    "from sklearn.model_selection import train_test_split\n",
    "from sklearn.neighbors import KNeighborsClassifier\n",
    "from sklearn.metrics import accuracy_score\n",
    "import matplotlib.pyplot as plt"
   ]
  },
  {
   "cell_type": "code",
   "execution_count": 22,
   "metadata": {},
   "outputs": [],
   "source": [
    "def visualizar_imagenes(df, img_shape=(64, 64), n=5):\n",
    "    \"\"\"\n",
    "    Visualiza las primeras n imágenes del DataFrame junto con sus etiquetas.\n",
    "\n",
    "    Args:\n",
    "        df (pd.DataFrame): DataFrame que contiene imágenes aplanadas y una columna de etiquetas.\n",
    "        img_shape (tuple): Dimensiones originales de las imágenes (por defecto 64x64).\n",
    "        n (int): Número de imágenes a visualizar.\n",
    "    \"\"\"\n",
    "    fig, axes = plt.subplots(1, n, figsize=(15, 5))\n",
    "    \n",
    "    for i in range(n):\n",
    "        # Obtener la fila correspondiente\n",
    "        try:\n",
    "            imagen_array = df.iloc[i, :-1].values.astype(float)  # Asegurar que son valores numéricos\n",
    "        except ValueError as e:\n",
    "            print(f\"Error al procesar la fila {i}: {e}\")\n",
    "            continue\n",
    "        \n",
    "        etiqueta = df.iloc[i, -1]  # Asume que la última columna es 'etiqueta'\n",
    "        \n",
    "        # Reconstruir la imagen\n",
    "        imagen = imagen_array.reshape(img_shape)\n",
    "        \n",
    "        # Mostrar la imagen\n",
    "        ax = axes[i]\n",
    "        ax.imshow(imagen, cmap='gray')  # Escala de grises\n",
    "        ax.set_title(f\"Etiqueta: {etiqueta}\")\n",
    "        ax.axis('off')  # Oculta los ejes\n",
    "    \n",
    "    plt.tight_layout()\n",
    "    plt.show()\n"
   ]
  },
  {
   "cell_type": "code",
   "execution_count": 3,
   "metadata": {},
   "outputs": [],
   "source": [
    "def cargar_imagenes_y_etiquetas(directorio):\n",
    "    imagenes = []\n",
    "    etiquetas = []\n",
    "\n",
    "    # Recorre el directorio\n",
    "    for archivo in os.listdir(directorio):\n",
    "        if archivo.endswith(\".jpg\") or archivo.endswith(\".png\"):  # Asegúrate de incluir tus formatos de imagen\n",
    "            etiqueta = archivo.split('.')[0]  # Usa el nombre del archivo como etiqueta\n",
    "            ruta_imagen = os.path.join(directorio, archivo)\n",
    "\n",
    "            # Abre la imagen, conviértela a escala de grises y redimensiónala (opcional)\n",
    "            imagen = Image.open(ruta_imagen).convert('L')  # 'L' para escala de grises\n",
    "            imagen = imagen.resize((64, 64))  # Redimensionar a 64x64 (puedes cambiar el tamaño)\n",
    "\n",
    "            # Convierte la imagen a un array de numpy y aplánalo\n",
    "            imagen_array = np.array(imagen).flatten()\n",
    "\n",
    "            imagenes.append(imagen_array)\n",
    "            etiquetas.append(etiqueta)\n",
    "\n",
    "    # Crea un DataFrame con las imágenes y las etiquetas\n",
    "    df = pd.DataFrame(imagenes)\n",
    "    df['etiqueta'] = etiquetas\n",
    "    return df"
   ]
  },
  {
   "cell_type": "code",
   "execution_count": 5,
   "metadata": {},
   "outputs": [],
   "source": [
    "# Cargar imágenes y etiquetas en un DataFrame\n",
    "df_imagenes_traing_cats = cargar_imagenes_y_etiquetas(\"training_set/training_set/cats\")\n",
    "df_imagenes_test_cats = cargar_imagenes_y_etiquetas(\"test_set/test_set/cats\")\n",
    "df_imagenes_training_dogs = cargar_imagenes_y_etiquetas(\"training_set/training_set/dogs\")\n",
    "df_imagenes_test_dogs = cargar_imagenes_y_etiquetas(\"test_set/test_set/dogs\")"
   ]
  },
  {
   "cell_type": "code",
   "execution_count": 61,
   "metadata": {},
   "outputs": [
    {
     "data": {
      "text/plain": [
       "(4005, 4097)"
      ]
     },
     "execution_count": 61,
     "metadata": {},
     "output_type": "execute_result"
    }
   ],
   "source": [
    "df_imagenes_training_dogs.shape"
   ]
  },
  {
   "cell_type": "code",
   "execution_count": 62,
   "metadata": {},
   "outputs": [
    {
     "data": {
      "text/plain": [
       "(1011, 4097)"
      ]
     },
     "execution_count": 62,
     "metadata": {},
     "output_type": "execute_result"
    }
   ],
   "source": [
    "df_imagenes_test_cats.shape"
   ]
  },
  {
   "cell_type": "code",
   "execution_count": 7,
   "metadata": {},
   "outputs": [
    {
     "data": {
      "text/html": [
       "<div>\n",
       "<style scoped>\n",
       "    .dataframe tbody tr th:only-of-type {\n",
       "        vertical-align: middle;\n",
       "    }\n",
       "\n",
       "    .dataframe tbody tr th {\n",
       "        vertical-align: top;\n",
       "    }\n",
       "\n",
       "    .dataframe thead th {\n",
       "        text-align: right;\n",
       "    }\n",
       "</style>\n",
       "<table border=\"1\" class=\"dataframe\">\n",
       "  <thead>\n",
       "    <tr style=\"text-align: right;\">\n",
       "      <th></th>\n",
       "      <th>0</th>\n",
       "      <th>1</th>\n",
       "      <th>2</th>\n",
       "      <th>3</th>\n",
       "      <th>4</th>\n",
       "      <th>5</th>\n",
       "      <th>6</th>\n",
       "      <th>7</th>\n",
       "      <th>8</th>\n",
       "      <th>9</th>\n",
       "      <th>...</th>\n",
       "      <th>4087</th>\n",
       "      <th>4088</th>\n",
       "      <th>4089</th>\n",
       "      <th>4090</th>\n",
       "      <th>4091</th>\n",
       "      <th>4092</th>\n",
       "      <th>4093</th>\n",
       "      <th>4094</th>\n",
       "      <th>4095</th>\n",
       "      <th>etiqueta</th>\n",
       "    </tr>\n",
       "  </thead>\n",
       "  <tbody>\n",
       "    <tr>\n",
       "      <th>0</th>\n",
       "      <td>62</td>\n",
       "      <td>41</td>\n",
       "      <td>85</td>\n",
       "      <td>88</td>\n",
       "      <td>106</td>\n",
       "      <td>77</td>\n",
       "      <td>9</td>\n",
       "      <td>15</td>\n",
       "      <td>14</td>\n",
       "      <td>12</td>\n",
       "      <td>...</td>\n",
       "      <td>140</td>\n",
       "      <td>144</td>\n",
       "      <td>142</td>\n",
       "      <td>143</td>\n",
       "      <td>144</td>\n",
       "      <td>141</td>\n",
       "      <td>143</td>\n",
       "      <td>144</td>\n",
       "      <td>144</td>\n",
       "      <td>dog</td>\n",
       "    </tr>\n",
       "    <tr>\n",
       "      <th>1</th>\n",
       "      <td>24</td>\n",
       "      <td>23</td>\n",
       "      <td>23</td>\n",
       "      <td>23</td>\n",
       "      <td>23</td>\n",
       "      <td>24</td>\n",
       "      <td>24</td>\n",
       "      <td>24</td>\n",
       "      <td>24</td>\n",
       "      <td>24</td>\n",
       "      <td>...</td>\n",
       "      <td>29</td>\n",
       "      <td>27</td>\n",
       "      <td>27</td>\n",
       "      <td>27</td>\n",
       "      <td>28</td>\n",
       "      <td>28</td>\n",
       "      <td>28</td>\n",
       "      <td>27</td>\n",
       "      <td>27</td>\n",
       "      <td>dog</td>\n",
       "    </tr>\n",
       "    <tr>\n",
       "      <th>2</th>\n",
       "      <td>7</td>\n",
       "      <td>7</td>\n",
       "      <td>7</td>\n",
       "      <td>7</td>\n",
       "      <td>7</td>\n",
       "      <td>7</td>\n",
       "      <td>7</td>\n",
       "      <td>7</td>\n",
       "      <td>7</td>\n",
       "      <td>7</td>\n",
       "      <td>...</td>\n",
       "      <td>89</td>\n",
       "      <td>69</td>\n",
       "      <td>78</td>\n",
       "      <td>70</td>\n",
       "      <td>27</td>\n",
       "      <td>20</td>\n",
       "      <td>20</td>\n",
       "      <td>18</td>\n",
       "      <td>17</td>\n",
       "      <td>dog</td>\n",
       "    </tr>\n",
       "    <tr>\n",
       "      <th>3</th>\n",
       "      <td>43</td>\n",
       "      <td>34</td>\n",
       "      <td>97</td>\n",
       "      <td>138</td>\n",
       "      <td>138</td>\n",
       "      <td>135</td>\n",
       "      <td>104</td>\n",
       "      <td>103</td>\n",
       "      <td>118</td>\n",
       "      <td>131</td>\n",
       "      <td>...</td>\n",
       "      <td>109</td>\n",
       "      <td>108</td>\n",
       "      <td>109</td>\n",
       "      <td>107</td>\n",
       "      <td>107</td>\n",
       "      <td>104</td>\n",
       "      <td>105</td>\n",
       "      <td>102</td>\n",
       "      <td>99</td>\n",
       "      <td>dog</td>\n",
       "    </tr>\n",
       "    <tr>\n",
       "      <th>4</th>\n",
       "      <td>108</td>\n",
       "      <td>108</td>\n",
       "      <td>108</td>\n",
       "      <td>108</td>\n",
       "      <td>108</td>\n",
       "      <td>108</td>\n",
       "      <td>108</td>\n",
       "      <td>108</td>\n",
       "      <td>108</td>\n",
       "      <td>108</td>\n",
       "      <td>...</td>\n",
       "      <td>143</td>\n",
       "      <td>136</td>\n",
       "      <td>138</td>\n",
       "      <td>138</td>\n",
       "      <td>141</td>\n",
       "      <td>140</td>\n",
       "      <td>137</td>\n",
       "      <td>130</td>\n",
       "      <td>128</td>\n",
       "      <td>dog</td>\n",
       "    </tr>\n",
       "    <tr>\n",
       "      <th>...</th>\n",
       "      <td>...</td>\n",
       "      <td>...</td>\n",
       "      <td>...</td>\n",
       "      <td>...</td>\n",
       "      <td>...</td>\n",
       "      <td>...</td>\n",
       "      <td>...</td>\n",
       "      <td>...</td>\n",
       "      <td>...</td>\n",
       "      <td>...</td>\n",
       "      <td>...</td>\n",
       "      <td>...</td>\n",
       "      <td>...</td>\n",
       "      <td>...</td>\n",
       "      <td>...</td>\n",
       "      <td>...</td>\n",
       "      <td>...</td>\n",
       "      <td>...</td>\n",
       "      <td>...</td>\n",
       "      <td>...</td>\n",
       "      <td>...</td>\n",
       "    </tr>\n",
       "    <tr>\n",
       "      <th>1007</th>\n",
       "      <td>74</td>\n",
       "      <td>72</td>\n",
       "      <td>74</td>\n",
       "      <td>73</td>\n",
       "      <td>73</td>\n",
       "      <td>77</td>\n",
       "      <td>97</td>\n",
       "      <td>76</td>\n",
       "      <td>90</td>\n",
       "      <td>98</td>\n",
       "      <td>...</td>\n",
       "      <td>105</td>\n",
       "      <td>106</td>\n",
       "      <td>100</td>\n",
       "      <td>103</td>\n",
       "      <td>82</td>\n",
       "      <td>114</td>\n",
       "      <td>135</td>\n",
       "      <td>156</td>\n",
       "      <td>154</td>\n",
       "      <td>dog</td>\n",
       "    </tr>\n",
       "    <tr>\n",
       "      <th>1008</th>\n",
       "      <td>131</td>\n",
       "      <td>135</td>\n",
       "      <td>136</td>\n",
       "      <td>135</td>\n",
       "      <td>132</td>\n",
       "      <td>133</td>\n",
       "      <td>135</td>\n",
       "      <td>142</td>\n",
       "      <td>142</td>\n",
       "      <td>147</td>\n",
       "      <td>...</td>\n",
       "      <td>74</td>\n",
       "      <td>70</td>\n",
       "      <td>68</td>\n",
       "      <td>72</td>\n",
       "      <td>77</td>\n",
       "      <td>100</td>\n",
       "      <td>76</td>\n",
       "      <td>54</td>\n",
       "      <td>71</td>\n",
       "      <td>dog</td>\n",
       "    </tr>\n",
       "    <tr>\n",
       "      <th>1009</th>\n",
       "      <td>103</td>\n",
       "      <td>104</td>\n",
       "      <td>106</td>\n",
       "      <td>105</td>\n",
       "      <td>106</td>\n",
       "      <td>107</td>\n",
       "      <td>107</td>\n",
       "      <td>107</td>\n",
       "      <td>109</td>\n",
       "      <td>109</td>\n",
       "      <td>...</td>\n",
       "      <td>121</td>\n",
       "      <td>121</td>\n",
       "      <td>121</td>\n",
       "      <td>119</td>\n",
       "      <td>119</td>\n",
       "      <td>119</td>\n",
       "      <td>119</td>\n",
       "      <td>119</td>\n",
       "      <td>118</td>\n",
       "      <td>dog</td>\n",
       "    </tr>\n",
       "    <tr>\n",
       "      <th>1010</th>\n",
       "      <td>170</td>\n",
       "      <td>115</td>\n",
       "      <td>79</td>\n",
       "      <td>116</td>\n",
       "      <td>112</td>\n",
       "      <td>118</td>\n",
       "      <td>136</td>\n",
       "      <td>164</td>\n",
       "      <td>178</td>\n",
       "      <td>172</td>\n",
       "      <td>...</td>\n",
       "      <td>128</td>\n",
       "      <td>133</td>\n",
       "      <td>130</td>\n",
       "      <td>156</td>\n",
       "      <td>162</td>\n",
       "      <td>162</td>\n",
       "      <td>169</td>\n",
       "      <td>175</td>\n",
       "      <td>157</td>\n",
       "      <td>dog</td>\n",
       "    </tr>\n",
       "    <tr>\n",
       "      <th>1011</th>\n",
       "      <td>237</td>\n",
       "      <td>240</td>\n",
       "      <td>242</td>\n",
       "      <td>245</td>\n",
       "      <td>247</td>\n",
       "      <td>250</td>\n",
       "      <td>254</td>\n",
       "      <td>255</td>\n",
       "      <td>255</td>\n",
       "      <td>251</td>\n",
       "      <td>...</td>\n",
       "      <td>30</td>\n",
       "      <td>33</td>\n",
       "      <td>33</td>\n",
       "      <td>31</td>\n",
       "      <td>29</td>\n",
       "      <td>27</td>\n",
       "      <td>25</td>\n",
       "      <td>26</td>\n",
       "      <td>24</td>\n",
       "      <td>dog</td>\n",
       "    </tr>\n",
       "  </tbody>\n",
       "</table>\n",
       "<p>1012 rows × 4097 columns</p>\n",
       "</div>"
      ],
      "text/plain": [
       "        0    1    2    3    4    5    6    7    8    9  ...  4087  4088  4089  \\\n",
       "0      62   41   85   88  106   77    9   15   14   12  ...   140   144   142   \n",
       "1      24   23   23   23   23   24   24   24   24   24  ...    29    27    27   \n",
       "2       7    7    7    7    7    7    7    7    7    7  ...    89    69    78   \n",
       "3      43   34   97  138  138  135  104  103  118  131  ...   109   108   109   \n",
       "4     108  108  108  108  108  108  108  108  108  108  ...   143   136   138   \n",
       "...   ...  ...  ...  ...  ...  ...  ...  ...  ...  ...  ...   ...   ...   ...   \n",
       "1007   74   72   74   73   73   77   97   76   90   98  ...   105   106   100   \n",
       "1008  131  135  136  135  132  133  135  142  142  147  ...    74    70    68   \n",
       "1009  103  104  106  105  106  107  107  107  109  109  ...   121   121   121   \n",
       "1010  170  115   79  116  112  118  136  164  178  172  ...   128   133   130   \n",
       "1011  237  240  242  245  247  250  254  255  255  251  ...    30    33    33   \n",
       "\n",
       "      4090  4091  4092  4093  4094  4095  etiqueta  \n",
       "0      143   144   141   143   144   144       dog  \n",
       "1       27    28    28    28    27    27       dog  \n",
       "2       70    27    20    20    18    17       dog  \n",
       "3      107   107   104   105   102    99       dog  \n",
       "4      138   141   140   137   130   128       dog  \n",
       "...    ...   ...   ...   ...   ...   ...       ...  \n",
       "1007   103    82   114   135   156   154       dog  \n",
       "1008    72    77   100    76    54    71       dog  \n",
       "1009   119   119   119   119   119   118       dog  \n",
       "1010   156   162   162   169   175   157       dog  \n",
       "1011    31    29    27    25    26    24       dog  \n",
       "\n",
       "[1012 rows x 4097 columns]"
      ]
     },
     "execution_count": 7,
     "metadata": {},
     "output_type": "execute_result"
    }
   ],
   "source": [
    "df_imagenes_test_dogs"
   ]
  },
  {
   "cell_type": "code",
   "execution_count": 8,
   "metadata": {},
   "outputs": [],
   "source": [
    "df_imagenes=pd.concat([df_imagenes_traing_cats,df_imagenes_training_dogs],axis=0,ignore_index=True)"
   ]
  },
  {
   "cell_type": "code",
   "execution_count": 9,
   "metadata": {},
   "outputs": [],
   "source": [
    "df_imagenes=pd.concat([df_imagenes,df_imagenes_test_cats],axis=0,ignore_index=True)"
   ]
  },
  {
   "cell_type": "code",
   "execution_count": 10,
   "metadata": {},
   "outputs": [],
   "source": [
    "df_imagenes=pd.concat([df_imagenes,df_imagenes_test_dogs],axis=0,ignore_index=True)"
   ]
  },
  {
   "cell_type": "code",
   "execution_count": 11,
   "metadata": {},
   "outputs": [
    {
     "data": {
      "text/plain": [
       "etiqueta\n",
       "dog    5017\n",
       "cat    5011\n",
       "Name: count, dtype: int64"
      ]
     },
     "execution_count": 11,
     "metadata": {},
     "output_type": "execute_result"
    }
   ],
   "source": [
    "df_imagenes.etiqueta.value_counts()"
   ]
  },
  {
   "cell_type": "code",
   "execution_count": 23,
   "metadata": {},
   "outputs": [
    {
     "data": {
      "image/png": "[encoded data removed]",
      "text/plain": [
       "<Figure size 1500x500 with 5 Axes>"
      ]
     },
     "metadata": {},
     "output_type": "display_data"
    }
   ],
   "source": [
    "# Uso de la función:\n",
    "# Suponiendo que df_imagenes es el DataFrame devuelto por la función cargar_imagenes_y_etiquetas\n",
    "visualizar_imagenes(df_imagenes, img_shape=(64, 64), n=5)"
   ]
  },
  {
   "cell_type": "code",
   "execution_count": 9,
   "metadata": {},
   "outputs": [],
   "source": [
    "# Separar las características (imágenes) y las etiquetas\n",
    "X = df_imagenes.drop('etiqueta', axis=1)\n",
    "y = df_imagenes['etiqueta']"
   ]
  },
  {
   "cell_type": "code",
   "execution_count": 10,
   "metadata": {},
   "outputs": [
    {
     "data": {
      "text/plain": [
       "etiqueta\n",
       "dog    5017\n",
       "cat    5011\n",
       "Name: count, dtype: int64"
      ]
     },
     "execution_count": 10,
     "metadata": {},
     "output_type": "execute_result"
    }
   ],
   "source": [
    "y.value_counts()"
   ]
  },
  {
   "cell_type": "code",
   "execution_count": 11,
   "metadata": {},
   "outputs": [],
   "source": [
    "# Dividir el conjunto de datos en entrenamiento y prueba\n",
    "X_train, X_test, y_train, y_test = train_test_split(X, y, test_size=0.2, random_state=42)"
   ]
  },
  {
   "cell_type": "code",
   "execution_count": 12,
   "metadata": {},
   "outputs": [],
   "source": [
    "# Crear el clasificador KNeighbors\n",
    "knn = KNeighborsClassifier(n_neighbors=3)"
   ]
  },
  {
   "cell_type": "code",
   "execution_count": 13,
   "metadata": {},
   "outputs": [
    {
     "data": {
      "text/html": [
       "<style>#sk-container-id-1 {color: black;}#sk-container-id-1 pre{padding: 0;}#sk-container-id-1 div.sk-toggleable {background-color: white;}#sk-container-id-1 label.sk-toggleable__label {cursor: pointer;display: block;width: 100%;margin-bottom: 0;padding: 0.3em;box-sizing: border-box;text-align: center;}#sk-container-id-1 label.sk-toggleable__label-arrow:before {content: \"▸\";float: left;margin-right: 0.25em;color: #696969;}#sk-container-id-1 label.sk-toggleable__label-arrow:hover:before {color: black;}#sk-container-id-1 div.sk-estimator:hover label.sk-toggleable__label-arrow:before {color: black;}#sk-container-id-1 div.sk-toggleable__content {max-height: 0;max-width: 0;overflow: hidden;text-align: left;background-color: #f0f8ff;}#sk-container-id-1 div.sk-toggleable__content pre {margin: 0.2em;color: black;border-radius: 0.25em;background-color: #f0f8ff;}#sk-container-id-1 input.sk-toggleable__control:checked~div.sk-toggleable__content {max-height: 200px;max-width: 100%;overflow: auto;}#sk-container-id-1 input.sk-toggleable__control:checked~label.sk-toggleable__label-arrow:before {content: \"▾\";}#sk-container-id-1 div.sk-estimator input.sk-toggleable__control:checked~label.sk-toggleable__label {background-color: #d4ebff;}#sk-container-id-1 div.sk-label input.sk-toggleable__control:checked~label.sk-toggleable__label {background-color: #d4ebff;}#sk-container-id-1 input.sk-hidden--visually {border: 0;clip: rect(1px 1px 1px 1px);clip: rect(1px, 1px, 1px, 1px);height: 1px;margin: -1px;overflow: hidden;padding: 0;position: absolute;width: 1px;}#sk-container-id-1 div.sk-estimator {font-family: monospace;background-color: #f0f8ff;border: 1px dotted black;border-radius: 0.25em;box-sizing: border-box;margin-bottom: 0.5em;}#sk-container-id-1 div.sk-estimator:hover {background-color: #d4ebff;}#sk-container-id-1 div.sk-parallel-item::after {content: \"\";width: 100%;border-bottom: 1px solid gray;flex-grow: 1;}#sk-container-id-1 div.sk-label:hover label.sk-toggleable__label {background-color: #d4ebff;}#sk-container-id-1 div.sk-serial::before {content: \"\";position: absolute;border-left: 1px solid gray;box-sizing: border-box;top: 0;bottom: 0;left: 50%;z-index: 0;}#sk-container-id-1 div.sk-serial {display: flex;flex-direction: column;align-items: center;background-color: white;padding-right: 0.2em;padding-left: 0.2em;position: relative;}#sk-container-id-1 div.sk-item {position: relative;z-index: 1;}#sk-container-id-1 div.sk-parallel {display: flex;align-items: stretch;justify-content: center;background-color: white;position: relative;}#sk-container-id-1 div.sk-item::before, #sk-container-id-1 div.sk-parallel-item::before {content: \"\";position: absolute;border-left: 1px solid gray;box-sizing: border-box;top: 0;bottom: 0;left: 50%;z-index: -1;}#sk-container-id-1 div.sk-parallel-item {display: flex;flex-direction: column;z-index: 1;position: relative;background-color: white;}#sk-container-id-1 div.sk-parallel-item:first-child::after {align-self: flex-end;width: 50%;}#sk-container-id-1 div.sk-parallel-item:last-child::after {align-self: flex-start;width: 50%;}#sk-container-id-1 div.sk-parallel-item:only-child::after {width: 0;}#sk-container-id-1 div.sk-dashed-wrapped {border: 1px dashed gray;margin: 0 0.4em 0.5em 0.4em;box-sizing: border-box;padding-bottom: 0.4em;background-color: white;}#sk-container-id-1 div.sk-label label {font-family: monospace;font-weight: bold;display: inline-block;line-height: 1.2em;}#sk-container-id-1 div.sk-label-container {text-align: center;}#sk-container-id-1 div.sk-container {/* jupyter's `normalize.less` sets `[hidden] { display: none; }` but bootstrap.min.css set `[hidden] { display: none !important; }` so we also need the `!important` here to be able to override the default hidden behavior on the sphinx rendered scikit-learn.org. See: https://github.com/scikit-learn/scikit-learn/issues/21755 */display: inline-block !important;position: relative;}#sk-container-id-1 div.sk-text-repr-fallback {display: none;}</style><div id=\"sk-container-id-1\" class=\"sk-top-container\"><div class=\"sk-text-repr-fallback\"><pre>KNeighborsClassifier(n_neighbors=3)</pre><b>In a Jupyter environment, please rerun this cell to show the HTML representation or trust the notebook. <br />On GitHub, the HTML representation is unable to render, please try loading this page with nbviewer.org.</b></div><div class=\"sk-container\" hidden><div class=\"sk-item\"><div class=\"sk-estimator sk-toggleable\"><input class=\"sk-toggleable__control sk-hidden--visually\" id=\"sk-estimator-id-1\" type=\"checkbox\" checked><label for=\"sk-estimator-id-1\" class=\"sk-toggleable__label sk-toggleable__label-arrow\">KNeighborsClassifier</label><div class=\"sk-toggleable__content\"><pre>KNeighborsClassifier(n_neighbors=3)</pre></div></div></div></div></div>"
      ],
      "text/plain": [
       "KNeighborsClassifier(n_neighbors=3)"
      ]
     },
     "execution_count": 13,
     "metadata": {},
     "output_type": "execute_result"
    }
   ],
   "source": [
    "# Entrenar el modelo\n",
    "knn.fit(X_train, y_train)"
   ]
  },
  {
   "cell_type": "code",
   "execution_count": 14,
   "metadata": {},
   "outputs": [],
   "source": [
    "# Hacer predicciones\n",
    "y_pred = knn.predict(X_test)"
   ]
  },
  {
   "cell_type": "code",
   "execution_count": 15,
   "metadata": {},
   "outputs": [
    {
     "name": "stdout",
     "output_type": "stream",
     "text": [
      "Precisión del modelo: 53.39%\n"
     ]
    }
   ],
   "source": [
    "# Calcular la precisión\n",
    "precision = accuracy_score(y_test, y_pred)\n",
    "print(f\"Precisión del modelo: {precision * 100:.2f}%\")"
   ]
  },
  {
   "cell_type": "code",
   "execution_count": 84,
   "metadata": {},
   "outputs": [
    {
     "name": "stdout",
     "output_type": "stream",
     "text": [
      "Precisión del modelo con 1: 54.44%\n",
      "Precisión del modelo con 2: 52.09%\n",
      "Precisión del modelo con 3: 53.39%\n",
      "Precisión del modelo con 4: 53.44%\n",
      "Precisión del modelo con 5: 55.43%\n",
      "Precisión del modelo con 6: 53.79%\n",
      "Precisión del modelo con 7: 55.88%\n",
      "Precisión del modelo con 8: 55.63%\n",
      "Precisión del modelo con 9: 57.18%\n",
      "Precisión del modelo con 10: 56.33%\n",
      "Precisión del modelo con 11: 57.48%\n",
      "Precisión del modelo con 12: 56.83%\n",
      "Precisión del modelo con 13: 56.53%\n",
      "Precisión del modelo con 14: 56.18%\n",
      "Precisión del modelo con 15: 56.93%\n",
      "Precisión del modelo con 16: 56.48%\n",
      "Precisión del modelo con 17: 57.43%\n",
      "Precisión del modelo con 18: 56.68%\n",
      "Precisión del modelo con 19: 57.83%\n",
      "Precisión del modelo con 20: 57.03%\n"
     ]
    }
   ],
   "source": [
    "for v in range(1,21):\n",
    "    knn = KNeighborsClassifier(n_neighbors=v)\n",
    "    knn.fit(X_train, y_train)\n",
    "    y_pred = knn.predict(X_test)\n",
    "    precision = accuracy_score(y_test, y_pred)\n",
    "    print(f\"Precisión del modelo con {v}: {precision * 100:.2f}%\")\n"
   ]
  },
  {
   "cell_type": "code",
   "execution_count": 85,
   "metadata": {},
   "outputs": [
    {
     "data": {
      "text/plain": [
       "array([[710, 312],\n",
       "       [550, 434]], dtype=int64)"
      ]
     },
     "execution_count": 85,
     "metadata": {},
     "output_type": "execute_result"
    }
   ],
   "source": [
    "from sklearn.metrics import confusion_matrix\n",
    "confusion=confusion_matrix(y_pred=y_pred,y_true=y_test)\n",
    "confusion"
   ]
  },
  {
   "cell_type": "code",
   "execution_count": 16,
   "metadata": {},
   "outputs": [],
   "source": [
    "from sklearn.model_selection import KFold\n",
    "from sklearn.model_selection import cross_val_score\n",
    "from sklearn.svm import SVC\n",
    "from sklearn.naive_bayes import GaussianNB"
   ]
  },
  {
   "cell_type": "code",
   "execution_count": 17,
   "metadata": {},
   "outputs": [],
   "source": [
    "estimadores=[KNeighborsClassifier,SVC,GaussianNB]"
   ]
  },
  {
   "cell_type": "code",
   "execution_count": null,
   "metadata": {},
   "outputs": [
    {
     "name": "stdout",
     "output_type": "stream",
     "text": [
      "KNeighborsClassifier Puntuacion promedio: 56.30%; Desviacion estadar: 1.34%\n"
     ]
    }
   ],
   "source": [
    "for estimador in estimadores:\n",
    "    estimador=estimador()\n",
    "    kfold=KFold(n_splits=10,random_state=11,shuffle=True)\n",
    "    puntuacion=cross_val_score(estimator=estimador,X=X,y=y,cv=kfold)\n",
    "    print(f'{estimador.__class__.__name__:>20} '+f'Puntuacion promedio: {puntuacion.mean():.2%}; '+ f'Desviacion estadar: {puntuacion.std():.2%}')"
   ]
  }
 ],
 "metadata": {
  "kernelspec": {
   "display_name": "Python 3",
   "language": "python",
   "name": "python3"
  },
  "language_info": {
   "codemirror_mode": {
    "name": "ipython",
    "version": 3
   },
   "file_extension": ".py",
   "mimetype": "text/x-python",
   "name": "python",
   "nbconvert_exporter": "python",
   "pygments_lexer": "ipython3",
   "version": "3.8.10"
  }
 },
 "nbformat": 4,
 "nbformat_minor": 2
}
