{
 "cells": [
  {
   "cell_type": "code",
   "execution_count": 1,
   "metadata": {},
   "outputs": [],
   "source": [
    "import pandas as pd\n",
    "import numpy as np \n",
    "import seaborn as sns \n",
    "import matplotlib.pyplot as plt"
   ]
  },
  {
   "cell_type": "markdown",
   "metadata": {},
   "source": [
    "###   Datos"
   ]
  },
  {
   "cell_type": "code",
   "execution_count": 2,
   "metadata": {},
   "outputs": [],
   "source": [
    "\n",
    "cantidad=10000\n",
    "importe_anual=  1000\n",
    "años=  50\n",
    "interes=6/100\n",
    "cantidades=[cantidad]\n",
    "añosl=[0]"
   ]
  },
  {
   "cell_type": "markdown",
   "metadata": {},
   "source": [
    "#   Dataframe"
   ]
  },
  {
   "cell_type": "code",
   "execution_count": 3,
   "metadata": {},
   "outputs": [],
   "source": [
    "for año in np.arange(1,años+1):\n",
    "    cantidad+=cantidad*interes+importe_anual\n",
    "    cantidad=round(cantidad)\n",
    "    cantidades.append(cantidad)\n",
    "    añosl.append(año)"
   ]
  },
  {
   "cell_type": "code",
   "execution_count": 4,
   "metadata": {},
   "outputs": [],
   "source": [
    "incom_df=pd.DataFrame({\"Años\":añosl,\"Cantidad\":cantidades})"
   ]
  },
  {
   "cell_type": "code",
   "execution_count": 5,
   "metadata": {},
   "outputs": [
    {
     "data": {
      "text/html": [
       "<div>\n",
       "<style scoped>\n",
       "    .dataframe tbody tr th:only-of-type {\n",
       "        vertical-align: middle;\n",
       "    }\n",
       "\n",
       "    .dataframe tbody tr th {\n",
       "        vertical-align: top;\n",
       "    }\n",
       "\n",
       "    .dataframe thead th {\n",
       "        text-align: right;\n",
       "    }\n",
       "</style>\n",
       "<table border=\"1\" class=\"dataframe\">\n",
       "  <thead>\n",
       "    <tr style=\"text-align: right;\">\n",
       "      <th></th>\n",
       "      <th>Años</th>\n",
       "      <th>Cantidad</th>\n",
       "    </tr>\n",
       "  </thead>\n",
       "  <tbody>\n",
       "    <tr>\n",
       "      <th>0</th>\n",
       "      <td>0</td>\n",
       "      <td>10000</td>\n",
       "    </tr>\n",
       "    <tr>\n",
       "      <th>1</th>\n",
       "      <td>1</td>\n",
       "      <td>11600</td>\n",
       "    </tr>\n",
       "    <tr>\n",
       "      <th>2</th>\n",
       "      <td>2</td>\n",
       "      <td>13296</td>\n",
       "    </tr>\n",
       "    <tr>\n",
       "      <th>3</th>\n",
       "      <td>3</td>\n",
       "      <td>15094</td>\n",
       "    </tr>\n",
       "    <tr>\n",
       "      <th>4</th>\n",
       "      <td>4</td>\n",
       "      <td>17000</td>\n",
       "    </tr>\n",
       "  </tbody>\n",
       "</table>\n",
       "</div>"
      ],
      "text/plain": [
       "   Años  Cantidad\n",
       "0     0     10000\n",
       "1     1     11600\n",
       "2     2     13296\n",
       "3     3     15094\n",
       "4     4     17000"
      ]
     },
     "execution_count": 5,
     "metadata": {},
     "output_type": "execute_result"
    }
   ],
   "source": [
    "incom_df.head(5)"
   ]
  },
  {
   "cell_type": "markdown",
   "metadata": {},
   "source": [
    "#  Grafico"
   ]
  },
  {
   "cell_type": "code",
   "execution_count": 6,
   "metadata": {},
   "outputs": [
    {
     "name": "stderr",
     "output_type": "stream",
     "text": [
      "C:\\Users\\jrive\\AppData\\Local\\Temp\\ipykernel_8084\\2543536684.py:5: FutureWarning: \n",
      "\n",
      "Passing `palette` without assigning `hue` is deprecated and will be removed in v0.14.0. Assign the `x` variable to `hue` and set `legend=False` for the same effect.\n",
      "\n",
      "  sns.barplot(data=incom_df, x=\"Años\", y=\"Cantidad\", palette=\"bright\", ax=ax)\n"
     ]
    },
    {
     "data": {
      "text/plain": [
       "[[], []]"
      ]
     },
     "execution_count": 6,
     "metadata": {},
     "output_type": "execute_result"
    },
    {
     "data": {
      "image/png": "[encoded data removed]",
      "text/plain": [
       "<Figure size 2000x800 with 1 Axes>"
      ]
     },
     "metadata": {},
     "output_type": "display_data"
    }
   ],
   "source": [
    "# Configuración del gráfico\n",
    "fig, ax = plt.subplots(figsize=(20, 8))\n",
    "\n",
    "# Crear el gráfico de barras\n",
    "sns.barplot(data=incom_df, x=\"Años\", y=\"Cantidad\", palette=\"bright\", ax=ax)\n",
    "\n",
    "# Ajustar las etiquetas y el título del gráfico\n",
    "ax.set_title(\"Gráfico de Barras Interactivo\")\n",
    "ax.set_xlabel(\"Años\")\n",
    "ax.set_ylabel(\"Cantidad\")\n",
    "ax.set(yticks=[],xticks=[])\n"
   ]
  },
  {
   "cell_type": "markdown",
   "metadata": {},
   "source": [
    "#  Interaccion"
   ]
  },
  {
   "cell_type": "code",
   "execution_count": null,
   "metadata": {},
   "outputs": [],
   "source": [
    "def on_click(event):\n",
    "    # Buscar las barras en el gráfico\n",
    "    for bar in ax.patches:\n",
    "        # Comprueba si el clic está dentro de los límites de la barra\n",
    "        if bar.contains(event)[0]:\n",
    "            # Obtiene la altura de la barra (valor de y)\n",
    "            height = bar.get_height()\n",
    "            # Obtiene la ubicación de la barra en el eje x (centro de la barra)\n",
    "            x_loc = bar.get_x() + bar.get_width() / 2\n",
    "\n",
    "                \n",
    "                # Añadir un texto en la gráfica con la altura y la ubicación en x\n",
    "            ax.text(x_loc, height, f'Cantidad: {height:.0f}\\nAño: {x_loc:.0f}', \n",
    "                        ha='center', va='bottom', color='black', fontsize=12)\n",
    "                \n",
    "                # Refrescar el gráfico para mostrar el texto\n",
    "            plt.draw()\n",
    "\n",
    "    # Conectar el evento de clic con la figura\n",
    "    fig.canvas.mpl_connect('button_press_event', on_click)\n",
    "    plt.show()"
   ]
  },
  {
   "cell_type": "markdown",
   "metadata": {},
   "source": [
    "# Archivo Python a .exe"
   ]
  },
  {
   "cell_type": "code",
   "execution_count": null,
   "metadata": {},
   "outputs": [],
   "source": [
    "!pip install PyInstaller\n"
   ]
  },
  {
   "cell_type": "code",
   "execution_count": null,
   "metadata": {},
   "outputs": [],
   "source": [
    "!python -m PyInstaller --onefile --noconsole name_file.py\n"
   ]
  },
  {
   "cell_type": "markdown",
   "metadata": {},
   "source": [
    "--onefile: Este argumento le indica a PyInstaller que genere un solo archivo ejecutable. Sin esta opción, PyInstaller creará una carpeta con varios archivos que juntos forman el ejecutable."
   ]
  },
  {
   "cell_type": "markdown",
   "metadata": {},
   "source": [
    "--windowed o --noconsole: Estas opciones se usan para aplicaciones GUI (interfaz gráfica de usuario) y evitarán que se abra una ventana de consola cuando el programa se ejecute."
   ]
  },
  {
   "cell_type": "markdown",
   "metadata": {},
   "source": [
    "--icon=icono.ico: Si deseas incluir un ícono personalizado para tu ejecutable, puedes usar esta opción. Asegúrate de tener un archivo .ico."
   ]
  }
 ],
 "metadata": {
  "kernelspec": {
   "display_name": "Python 3",
   "language": "python",
   "name": "python3"
  },
  "language_info": {
   "codemirror_mode": {
    "name": "ipython",
    "version": 3
   },
   "file_extension": ".py",
   "mimetype": "text/x-python",
   "name": "python",
   "nbconvert_exporter": "python",
   "pygments_lexer": "ipython3",
   "version": "3.8.10"
  }
 },
 "nbformat": 4,
 "nbformat_minor": 2
}
